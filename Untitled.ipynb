{
 "cells": [
  {
   "cell_type": "markdown",
   "id": "f753e2b4-7e4a-45a6-bd81-7a3c46fee7f0",
   "metadata": {},
   "source": [
    "## punto 3"
   ]
  },
  {
   "cell_type": "markdown",
   "id": "84e06109-18c0-4707-9772-8034ada547ec",
   "metadata": {},
   "source": [
    "### Criptografía de Llave Simétrica\n",
    "\n",
    "#### Enunciado:\n",
    "\n",
    "3. Un atacante intercepta el siguiente texto cifrado (codificado en hexadecimal):\n",
    "\n",
    "94f043aa844f715c9a4347a48234b48d 5956caa4da7b39a369f5d1e1ccd28232\n",
    "\n",
    "Él sabe que el texto plano es la codificación ASCII del mensaje **\"A Alice $10,000.\"** (excluyendo las comillas). El atacante también sabe que se usó encripción CBC con un IV aleatorio que usa AES como el cifrador de bloque subyacente.\n",
    "\n",
    "**Instrucción:**\n",
    "Muestre que el atacante puede cambiar el texto cifrado para que se descifre como **\"A Alice $90,000.\"**. ¿Cuál es el texto cifrado resultante (codificado en hexadecimal)?\n",
    "\n",
    "Esto demuestra que **CBC no proporciona integridad**.\n",
    "\n",
    "\n"
   ]
  },
  {
   "cell_type": "code",
   "execution_count": null,
   "id": "50949f3e-a2d1-4423-a688-a7657f62b075",
   "metadata": {},
   "outputs": [],
   "source": []
  }
 ],
 "metadata": {
  "kernelspec": {
   "display_name": "Python 3 (ipykernel)",
   "language": "python",
   "name": "python3"
  },
  "language_info": {
   "codemirror_mode": {
    "name": "ipython",
    "version": 3
   },
   "file_extension": ".py",
   "mimetype": "text/x-python",
   "name": "python",
   "nbconvert_exporter": "python",
   "pygments_lexer": "ipython3",
   "version": "3.12.7"
  }
 },
 "nbformat": 4,
 "nbformat_minor": 5
}
