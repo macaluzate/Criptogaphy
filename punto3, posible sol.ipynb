{
 "cells": [
  {
   "cell_type": "markdown",
   "id": "f753e2b4-7e4a-45a6-bd81-7a3c46fee7f0",
   "metadata": {},
   "source": [
    "## punto 3"
   ]
  },
  {
   "cell_type": "markdown",
   "id": "84e06109-18c0-4707-9772-8034ada547ec",
   "metadata": {},
   "source": [
    "### Criptografía de Llave Simétrica\n",
    "\n",
    "#### Enunciado:\n",
    "\n",
    "3. Un atacante intercepta el siguiente texto cifrado (codificado en hexadecimal):\n",
    "\n",
    "94f043aa844f715c9a4347a48234b48d 5956caa4da7b39a369f5d1e1ccd28232\n",
    "\n",
    "Él sabe que el texto plano es la codificación ASCII del mensaje **\"A Alice $10,000.\"** (excluyendo las comillas). El atacante también sabe que se usó encripción CBC con un IV aleatorio que usa AES como el cifrador de bloque subyacente.\n",
    "\n",
    "**Instrucción:**\n",
    "Muestre que el atacante puede cambiar el texto cifrado para que se descifre como **\"A Alice $90,000.\"**. ¿Cuál es el texto cifrado resultante (codificado en hexadecimal)?\n",
    "\n",
    "Esto demuestra que **CBC no proporciona integridad**.\n",
    "\n",
    "\n"
   ]
  },
  {
   "cell_type": "markdown",
   "id": "476dde29-a07b-4276-956a-224925bb20fc",
   "metadata": {},
   "source": [
    "# Solución:"
   ]
  },
  {
   "cell_type": "markdown",
   "id": "79f63d3d-3596-4d74-9985-5d84802b5b49",
   "metadata": {},
   "source": [
    "Sabemos que el atacante no conoce la llave, pero sabe cual es el texto plano y también sabe que se uso Encripción CBC con un IV que usa AES. Ese IV tiene una longitud de 16 bytes,, pues el problema dice que el IV es como el cifrador de bloque.  "
   ]
  },
  {
   "cell_type": "markdown",
   "id": "0607652b-643c-4908-8bcd-d88d17623b50",
   "metadata": {},
   "source": [
    "### Fórmula para descifrado en modo CBC\n",
    "\n",
    "El texto plano se obtiene usando la siguiente fórmula:\n",
    "\n",
    "**texto_plano = IV ⊕ texto_cifrado**"
   ]
  },
  {
   "cell_type": "markdown",
   "id": "dcf94407-ebc7-42ab-b19e-3e04b0f6a161",
   "metadata": {},
   "source": [
    "\n",
    "#### Donde:\n",
    "- **IV**: Es el Vector de Inicialización, que se utiliza en el primer bloque. (ESTANDAR)\n",
    "- **texto_cifrado**: Es el primer bloque del texto cifrado que se descifra.\n",
    "- **⊕**: Representa la operación XOR (bit a bit).\n",
    "\n",
    "Esto aplica únicamente al **primer bloque del texto plano** en el modo CBC. Para los bloques posteriores, se utiliza el bloque cifrado anterior en lugar del IV:\n"
   ]
  },
  {
   "cell_type": "code",
   "execution_count": 4,
   "id": "792aa82b-eb91-420b-bc44-049c6b72fe28",
   "metadata": {},
   "outputs": [
    {
     "name": "stdout",
     "output_type": "stream",
     "text": [
      "00000000000000000008000000000000\n"
     ]
    }
   ],
   "source": [
    "def xor(plaintext, malicious):\n",
    "    # Crear una lista para almacenar el resultado del XOR\n",
    "    output = bytearray(len(plaintext))\n",
    "    \n",
    "    # Realizar la operación XOR byte a byte\n",
    "    for i in range(len(plaintext)):\n",
    "        output[i] = plaintext[i] ^ malicious[i]\n",
    "    \n",
    "    # Imprimir el resultado en formato hexadecimal\n",
    "    print(output.hex())\n",
    "\n",
    "# Ejemplo de uso\n",
    "plaintext = bytearray(b\"A Alice $10,000.\")\n",
    "malicious = bytearray(b\"A Alice $90,000.\")\n",
    "\n",
    "xor(plaintext, malicious)\n"
   ]
  },
  {
   "cell_type": "markdown",
   "id": "5c345320-7cbe-4e8b-92eb-94ad02474a55",
   "metadata": {},
   "source": [
    "Este seria la \"mascara\" que arroja y habria entonces que hacer XOR con el IV, que generaria un nuevo IV el cual cuando le llegue al destinatario y lo desencripte, el resultado sería \" A Alice $90,000.\""
   ]
  },
  {
   "cell_type": "code",
   "execution_count": 9,
   "id": "ef118799-c41d-4599-8c64-b5c21bff43bd",
   "metadata": {},
   "outputs": [
    {
     "name": "stdout",
     "output_type": "stream",
     "text": [
      "Nuevo IV: 010203040506070809020b0c0d0e0f10\n"
     ]
    }
   ],
   "source": [
    "def apply_xor_to_iv(iv_hex, mask_hex):\n",
    "    # Convertir el IV y la máscara de hexadecimal a bytes\n",
    "    iv = bytearray.fromhex(iv_hex)\n",
    "    mask = bytearray.fromhex(mask_hex)\n",
    "    \n",
    "    # Verificar que ambos tengan la misma longitud\n",
    "    if len(iv) != len(mask):\n",
    "        raise ValueError(\"El IV y la máscara deben tener la misma longitud\")\n",
    "    \n",
    "    # Aplicar XOR byte por byte\n",
    "    new_iv = bytearray(len(iv))\n",
    "    for i in range(len(iv)):\n",
    "        new_iv[i] = iv[i] ^ mask[i]\n",
    "    \n",
    "    # Convertir el resultado a hexadecimal y devolverlo\n",
    "    return new_iv.hex()\n",
    "\n",
    "# Ejemplo de uso\n",
    "iv_hex = \"0102030405060708090a0b0c0d0e0f10\"\n",
    "mask_hex = \"00000000000000000008000000000000\"\n",
    "\n",
    "new_iv = apply_xor_to_iv(iv_hex, mask_hex)\n",
    "print(f\"Nuevo IV: {new_iv}\")\n"
   ]
  },
  {
   "cell_type": "code",
   "execution_count": null,
   "id": "c44056ab-9671-49a8-b662-5ce0fefc96fe",
   "metadata": {},
   "outputs": [],
   "source": [
    "          94f043aa844f715c9a4347a48234b48d "
   ]
  }
 ],
 "metadata": {
  "kernelspec": {
   "display_name": "Python 3 (ipykernel)",
   "language": "python",
   "name": "python3"
  },
  "language_info": {
   "codemirror_mode": {
    "name": "ipython",
    "version": 3
   },
   "file_extension": ".py",
   "mimetype": "text/x-python",
   "name": "python",
   "nbconvert_exporter": "python",
   "pygments_lexer": "ipython3",
   "version": "3.12.7"
  }
 },
 "nbformat": 4,
 "nbformat_minor": 5
}
